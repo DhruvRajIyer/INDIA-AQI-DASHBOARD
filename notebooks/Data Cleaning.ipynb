{
 "cells": [
  {
   "cell_type": "code",
   "execution_count": 1,
   "id": "e529e2aa-d656-430f-8409-3f03a335edc4",
   "metadata": {},
   "outputs": [
    {
     "name": "stdout",
     "output_type": "stream",
     "text": [
      "Requirement already satisfied: pandas in /opt/homebrew/Cellar/jupyterlab/4.3.5/libexec/lib/python3.13/site-packages (2.2.3)\n",
      "Requirement already satisfied: matplotlib in /opt/homebrew/Cellar/jupyterlab/4.3.5/libexec/lib/python3.13/site-packages (3.10.1)\n",
      "Requirement already satisfied: seaborn in /opt/homebrew/Cellar/jupyterlab/4.3.5/libexec/lib/python3.13/site-packages (0.13.2)\n",
      "Requirement already satisfied: scikit-learn in /opt/homebrew/Cellar/jupyterlab/4.3.5/libexec/lib/python3.13/site-packages (1.6.1)\n",
      "Requirement already satisfied: numpy>=1.26.0 in /opt/homebrew/Cellar/jupyterlab/4.3.5/libexec/lib/python3.13/site-packages (from pandas) (2.2.3)\n",
      "Requirement already satisfied: python-dateutil>=2.8.2 in /opt/homebrew/Cellar/jupyterlab/4.3.5/libexec/lib/python3.13/site-packages (from pandas) (2.9.0.post0)\n",
      "Requirement already satisfied: pytz>=2020.1 in /opt/homebrew/Cellar/jupyterlab/4.3.5/libexec/lib/python3.13/site-packages (from pandas) (2025.1)\n",
      "Requirement already satisfied: tzdata>=2022.7 in /opt/homebrew/Cellar/jupyterlab/4.3.5/libexec/lib/python3.13/site-packages (from pandas) (2025.1)\n",
      "Requirement already satisfied: contourpy>=1.0.1 in /opt/homebrew/Cellar/jupyterlab/4.3.5/libexec/lib/python3.13/site-packages (from matplotlib) (1.3.1)\n",
      "Requirement already satisfied: cycler>=0.10 in /opt/homebrew/Cellar/jupyterlab/4.3.5/libexec/lib/python3.13/site-packages (from matplotlib) (0.12.1)\n",
      "Requirement already satisfied: fonttools>=4.22.0 in /opt/homebrew/Cellar/jupyterlab/4.3.5/libexec/lib/python3.13/site-packages (from matplotlib) (4.56.0)\n",
      "Requirement already satisfied: kiwisolver>=1.3.1 in /opt/homebrew/Cellar/jupyterlab/4.3.5/libexec/lib/python3.13/site-packages (from matplotlib) (1.4.8)\n",
      "Requirement already satisfied: packaging>=20.0 in /opt/homebrew/Cellar/jupyterlab/4.3.5/libexec/lib/python3.13/site-packages (from matplotlib) (24.2)\n",
      "Requirement already satisfied: pillow>=8 in /opt/homebrew/Cellar/jupyterlab/4.3.5/libexec/lib/python3.13/site-packages (from matplotlib) (11.1.0)\n",
      "Requirement already satisfied: pyparsing>=2.3.1 in /opt/homebrew/Cellar/jupyterlab/4.3.5/libexec/lib/python3.13/site-packages (from matplotlib) (3.2.1)\n",
      "Requirement already satisfied: scipy>=1.6.0 in /opt/homebrew/Cellar/jupyterlab/4.3.5/libexec/lib/python3.13/site-packages (from scikit-learn) (1.15.2)\n",
      "Requirement already satisfied: joblib>=1.2.0 in /opt/homebrew/Cellar/jupyterlab/4.3.5/libexec/lib/python3.13/site-packages (from scikit-learn) (1.4.2)\n",
      "Requirement already satisfied: threadpoolctl>=3.1.0 in /opt/homebrew/Cellar/jupyterlab/4.3.5/libexec/lib/python3.13/site-packages (from scikit-learn) (3.5.0)\n",
      "Requirement already satisfied: six>=1.5 in /opt/homebrew/Cellar/jupyterlab/4.3.5/libexec/lib/python3.13/site-packages (from python-dateutil>=2.8.2->pandas) (1.17.0)\n",
      "\n",
      "\u001b[1m[\u001b[0m\u001b[34;49mnotice\u001b[0m\u001b[1;39;49m]\u001b[0m\u001b[39;49m A new release of pip is available: \u001b[0m\u001b[31;49m24.3.1\u001b[0m\u001b[39;49m -> \u001b[0m\u001b[32;49m25.0.1\u001b[0m\n",
      "\u001b[1m[\u001b[0m\u001b[34;49mnotice\u001b[0m\u001b[1;39;49m]\u001b[0m\u001b[39;49m To update, run: \u001b[0m\u001b[32;49m/opt/homebrew/Cellar/jupyterlab/4.3.5/libexec/bin/python -m pip install --upgrade pip\u001b[0m\n",
      "Note: you may need to restart the kernel to use updated packages.\n"
     ]
    }
   ],
   "source": [
    "pip install pandas matplotlib seaborn scikit-learn\n"
   ]
  },
  {
   "cell_type": "code",
   "execution_count": 36,
   "id": "10f8b924-59df-460e-9329-7d68cf81ff79",
   "metadata": {},
   "outputs": [
    {
     "name": "stdout",
     "output_type": "stream",
     "text": [
      "Combined data saved successfully!\n"
     ]
    }
   ],
   "source": [
    "import pandas as pd\n",
    "import os\n",
    "from pathlib import Path\n",
    "\n",
    "# 1. Set directory path containing CSV files\n",
    "data_dir = Path(\"/Users/dhruviyer/AQIEDA/data\")  # Replace with actual path\n",
    "\n",
    "# 2. Initialize empty list to store DataFrames\n",
    "all_data = []\n",
    "\n",
    "# 3. Process each CSV file\n",
    "for file_path in data_dir.glob(\"*_combined.csv\"):\n",
    "    # Extract city name from filename\n",
    "    city_name = file_path.stem.split('_')[0].capitalize()\n",
    "    \n",
    "    # Read CSV and add city column\n",
    "    df = pd.read_csv(file_path)\n",
    "    df.insert(1, 'City', city_name)  # Insert after first column\n",
    "    \n",
    "    # Add to list\n",
    "    all_data.append(df)\n",
    "\n",
    "# 4. Combine all DataFrames\n",
    "combined_df = pd.concat(all_data, ignore_index=True)\n",
    "\n",
    "# 5. Save merged data\n",
    "combined_df.to_csv(\"all_cities_aqi_combined.csv\", index=False)\n",
    "print(\"Combined data saved successfully!\")"
   ]
  },
  {
   "cell_type": "code",
   "execution_count": 41,
   "id": "53366eab-100a-4f6c-8f3b-01062f5a343a",
   "metadata": {},
   "outputs": [
    {
     "name": "stdout",
     "output_type": "stream",
     "text": [
      "    Timestamp   City              Location   PM2.5    PM10     NO2    NH3  \\\n",
      "0  01-01-2020  Delhi  Delhi - Punjabi Bagh  420.68  507.60  105.21  63.96   \n",
      "1  02-01-2020  Delhi  Delhi - Punjabi Bagh  364.73  480.09   79.38  51.28   \n",
      "2  03-01-2020  Delhi  Delhi - Punjabi Bagh  227.72  309.23   57.22  44.29   \n",
      "\n",
      "     SO2    CO    O3  \n",
      "0   6.30  2.26  9.49  \n",
      "1   9.69  2.87  8.03  \n",
      "2  11.04  2.69  8.18  \n",
      "\n",
      "Columns: ['Timestamp', 'City', 'Location', 'PM2.5', 'PM10', 'NO2', 'NH3', 'SO2', 'CO', 'O3']\n"
     ]
    }
   ],
   "source": [
    "\n",
    "print(df.head(3))  # Show first 3 rows\n",
    "print(\"\\nColumns:\", df.columns.tolist())\n"
   ]
  },
  {
   "cell_type": "code",
   "execution_count": 42,
   "id": "074a82ba-049f-4c91-9c58-ec9e84166dd1",
   "metadata": {},
   "outputs": [],
   "source": [
    "df['Timestamp'] = pd.to_datetime(df['Timestamp'], dayfirst=True).dt.strftime('%Y-%m-%d')\n"
   ]
  },
  {
   "cell_type": "code",
   "execution_count": 43,
   "id": "56ec91c7-6c45-4866-aafc-dea4a9c64f59",
   "metadata": {},
   "outputs": [
    {
     "name": "stdout",
     "output_type": "stream",
     "text": [
      "Duplicate rows: 0\n"
     ]
    }
   ],
   "source": [
    "print(f\"Duplicate rows: {df.duplicated().sum()}\")\n"
   ]
  },
  {
   "cell_type": "code",
   "execution_count": 53,
   "id": "22b849e0-1168-4a9c-afed-4e21ebfc8bfb",
   "metadata": {},
   "outputs": [
    {
     "name": "stdout",
     "output_type": "stream",
     "text": [
      "    Timestamp   City   PM2.5    PM10     NO2    NH3    SO2    CO    O3  \\\n",
      "0  2020-01-01  Delhi  420.68  507.60  105.21  63.96   6.30  2.26  9.49   \n",
      "1  2020-01-02  Delhi  364.73  480.09   79.38  51.28   9.69  2.87  8.03   \n",
      "2  2020-01-03  Delhi  227.72  309.23   57.22  44.29  11.04  2.69  8.18   \n",
      "\n",
      "           Area PM2.5_Status  \n",
      "0  Punjabi Bagh       Review  \n",
      "1  Punjabi Bagh       Review  \n",
      "2  Punjabi Bagh           OK  \n",
      "\n",
      "Columns: ['Timestamp', 'City', 'PM2.5', 'PM10', 'NO2', 'NH3', 'SO2', 'CO', 'O3', 'Area', 'PM2.5_Status']\n"
     ]
    }
   ],
   "source": [
    "print(df.head(3))  # Show first 3 rows\n",
    "print(\"\\nColumns:\", df.columns.tolist())"
   ]
  },
  {
   "cell_type": "code",
   "execution_count": 46,
   "id": "38da6f56-6948-42d4-817c-b9a9e60f509d",
   "metadata": {},
   "outputs": [],
   "source": [
    "import numpy as np"
   ]
  },
  {
   "cell_type": "code",
   "execution_count": 48,
   "id": "cdfff28b-b467-410e-af7b-6d5404adbcfc",
   "metadata": {},
   "outputs": [],
   "source": [
    "df['PM2.5_Status'] = np.where(df['PM2.5'] > 500, 'Invalid', \n",
    "                             np.where(df['PM2.5'] > 300, 'Review', 'OK'))\n"
   ]
  },
  {
   "cell_type": "code",
   "execution_count": 49,
   "id": "fe228d8f-ecd2-493e-aeac-63dba5f0aa8b",
   "metadata": {},
   "outputs": [
    {
     "name": "stdout",
     "output_type": "stream",
     "text": [
      "Timestamp        0\n",
      "City             0\n",
      "PM2.5           14\n",
      "PM10            20\n",
      "NO2             21\n",
      "NH3             23\n",
      "SO2             43\n",
      "CO              27\n",
      "O3              20\n",
      "Area             0\n",
      "PM2.5_Status     0\n",
      "dtype: int64\n"
     ]
    }
   ],
   "source": [
    "print(df.isnull().sum())\n"
   ]
  },
  {
   "cell_type": "code",
   "execution_count": 54,
   "id": "c06d3b12-6cb4-482b-bad5-03f68afc9ea8",
   "metadata": {},
   "outputs": [
    {
     "name": "stdout",
     "output_type": "stream",
     "text": [
      "             PM2.5         PM10          NO2          NH3          SO2  \\\n",
      "count  1813.000000  1807.000000  1806.000000  1804.000000  1784.000000   \n",
      "mean    114.174567   212.470714    47.171755    23.287223    17.082618   \n",
      "std      90.995321   120.481871    22.915488    10.500778    12.052564   \n",
      "min      12.200000    27.100000     0.220000     0.100000     0.680000   \n",
      "25%      49.280000   117.650000    29.220000    15.375000    10.177500   \n",
      "50%      81.440000   188.220000    44.485000    22.805000    15.275000   \n",
      "75%     151.780000   283.770000    61.325000    29.505000    20.762500   \n",
      "max     676.100000   790.750000   204.200000    92.830000   127.410000   \n",
      "\n",
      "                CO           O3  \n",
      "count  1800.000000  1807.000000  \n",
      "mean      1.223433    28.134715  \n",
      "std       0.767546    20.265792  \n",
      "min       0.070000     2.270000  \n",
      "25%       0.707500    13.265000  \n",
      "50%       0.985000    21.560000  \n",
      "75%       1.540000    36.240000  \n",
      "max       6.330000   122.100000  \n"
     ]
    }
   ],
   "source": [
    "print(df.describe())\n",
    "\n"
   ]
  },
  {
   "cell_type": "code",
   "execution_count": 55,
   "id": "a2c9282c-19a6-4bcf-aa59-9dbe07a16d1e",
   "metadata": {},
   "outputs": [
    {
     "data": {
      "text/plain": [
       "Area\n",
       "Punjabi Bagh    114.174567\n",
       "Name: PM2.5, dtype: float64"
      ]
     },
     "execution_count": 55,
     "metadata": {},
     "output_type": "execute_result"
    }
   ],
   "source": [
    "df.groupby('Area')['PM2.5'].mean().sort_values(ascending=False)\n"
   ]
  },
  {
   "cell_type": "code",
   "execution_count": 56,
   "id": "963786c6-fa60-40b5-8fa2-ec99957c1111",
   "metadata": {},
   "outputs": [
    {
     "name": "stdout",
     "output_type": "stream",
     "text": [
      "Timestamp        0\n",
      "City             0\n",
      "PM2.5           14\n",
      "PM10            20\n",
      "NO2             21\n",
      "NH3             23\n",
      "SO2             43\n",
      "CO              27\n",
      "O3              20\n",
      "Area             0\n",
      "PM2.5_Status     0\n",
      "dtype: int64\n"
     ]
    }
   ],
   "source": [
    "print(df.isnull().sum())\n"
   ]
  },
  {
   "cell_type": "code",
   "execution_count": 57,
   "id": "0de6bca4-cd56-4ba4-89b6-b8238552148b",
   "metadata": {},
   "outputs": [],
   "source": [
    "num_cols = ['PM2.5', 'PM10', 'NO2', 'NH3', 'SO2', 'CO', 'O3']\n",
    "df[num_cols] = df[num_cols].fillna(df[num_cols].median())\n",
    "\n",
    "# For text columns\n",
    "df['Area'] = df['Area'].fillna('Unknown')"
   ]
  },
  {
   "cell_type": "code",
   "execution_count": 58,
   "id": "79a7b843-d913-46de-857f-c60c07548025",
   "metadata": {},
   "outputs": [
    {
     "name": "stdout",
     "output_type": "stream",
     "text": [
      "Timestamp       0\n",
      "City            0\n",
      "PM2.5           0\n",
      "PM10            0\n",
      "NO2             0\n",
      "NH3             0\n",
      "SO2             0\n",
      "CO              0\n",
      "O3              0\n",
      "Area            0\n",
      "PM2.5_Status    0\n",
      "dtype: int64\n"
     ]
    }
   ],
   "source": [
    "print(df.isnull().sum())\n"
   ]
  },
  {
   "cell_type": "code",
   "execution_count": null,
   "id": "44878b99-9acc-4141-aa65-63a09f4f2026",
   "metadata": {},
   "outputs": [],
   "source": []
  }
 ],
 "metadata": {
  "kernelspec": {
   "display_name": "Python 3 (ipykernel)",
   "language": "python",
   "name": "python3"
  },
  "language_info": {
   "codemirror_mode": {
    "name": "ipython",
    "version": 3
   },
   "file_extension": ".py",
   "mimetype": "text/x-python",
   "name": "python",
   "nbconvert_exporter": "python",
   "pygments_lexer": "ipython3",
   "version": "3.13.1"
  }
 },
 "nbformat": 4,
 "nbformat_minor": 5
}
